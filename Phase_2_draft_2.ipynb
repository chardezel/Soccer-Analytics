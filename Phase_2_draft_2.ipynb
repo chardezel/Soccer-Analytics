{
  "nbformat": 4,
  "nbformat_minor": 0,
  "metadata": {
    "colab": {
      "provenance": [],
      "authorship_tag": "ABX9TyMuI2iid75vTJZeSnSlNK0y",
      "include_colab_link": true
    },
    "kernelspec": {
      "name": "python3",
      "display_name": "Python 3"
    },
    "language_info": {
      "name": "python"
    }
  },
  "cells": [
    {
      "cell_type": "markdown",
      "metadata": {
        "id": "view-in-github",
        "colab_type": "text"
      },
      "source": [
        "<a href=\"https://colab.research.google.com/github/chardezel/Soccer-Analytics/blob/main/Phase_2_draft_2.ipynb\" target=\"_parent\"><img src=\"https://colab.research.google.com/assets/colab-badge.svg\" alt=\"Open In Colab\"/></a>"
      ]
    },
    {
      "cell_type": "code",
      "source": [
        "import pandas as pd\n",
        "\n",
        "import io\n",
        "import json\n",
        "\n",
        "json_file = open('csv1json.json', 'r')\n",
        "loaded_json = json_file.read ()\n",
        "json_file.close ()\n",
        "\n",
        "print (loaded_json)"
      ],
      "metadata": {
        "colab": {
          "base_uri": "https://localhost:8080/"
        },
        "id": "q4W-iSKpU2IR",
        "outputId": "4a7b4132-db9d-419e-ee08-bd48cdfc6cc1"
      },
      "execution_count": 8,
      "outputs": [
        {
          "output_type": "stream",
          "name": "stdout",
          "text": [
            "[\n",
            "  {\n",
            "    \"name\": \"Aleksandar Mitrovic\",\n",
            "    \"age\": 28,\n",
            "    \"goals\": 5\n",
            "  },\n",
            "  {\n",
            "    \"name\": \"Abdoulaye Doucoure\",\n",
            "    \"age\": 29,\n",
            "    \"goals\": 11\n",
            "  }\n",
            "]\n"
          ]
        }
      ]
    }
  ]
}