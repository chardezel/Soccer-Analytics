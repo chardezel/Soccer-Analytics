{
  "nbformat": 4,
  "nbformat_minor": 0,
  "metadata": {
    "colab": {
      "provenance": [],
      "authorship_tag": "ABX9TyNYNHoeE/3w7/9AgK7Kg5Wx",
      "include_colab_link": true
    },
    "kernelspec": {
      "name": "python3",
      "display_name": "Python 3"
    },
    "language_info": {
      "name": "python"
    }
  },
  "cells": [
    {
      "cell_type": "markdown",
      "metadata": {
        "id": "view-in-github",
        "colab_type": "text"
      },
      "source": [
        "<a href=\"https://colab.research.google.com/github/chardezel/Soccer-Analytics/blob/main/Phase_2_draft.ipynb\" target=\"_parent\"><img src=\"https://colab.research.google.com/assets/colab-badge.svg\" alt=\"Open In Colab\"/></a>"
      ]
    },
    {
      "source": [
        "import json\n",
        "\n",
        "with open('csvjson.json', 'r') as file:\n",
        "    data = json.load(file)\n",
        "\n",
        "players = []\n",
        "for item in data:\n",
        "    if 'players' in item:\n",
        "        players = item['players']\n",
        "        break\n",
        "\n",
        "def find_player(name):\n",
        "    for player in players:\n",
        "        if player['name'] == name:\n",
        "            return player\n",
        "    return None\n",
        "\n",
        "def compare_players(player1_name, player2_name):\n",
        "    player1 = find_player(player1_name)\n",
        "    player2 = find_player(player2_name)\n",
        "\n",
        "    if not player1 or not player2:\n",
        "        print(\"One or both players not found.\")\n",
        "        return\n",
        "\n",
        "    if player1['position'] != player2['position']:\n",
        "        print(\"Players have different positions.\")\n",
        "        return\n",
        "\n",
        "    comparison = {\n",
        "        \"Player 1\": player1_name,\n",
        "        \"Player 2\": player2_name,\n",
        "        \"Goals Comparison\": f\"{player1['goals']} vs {player2['goals']}\",\n",
        "        \"Appearances Comparison\": f\"{player1['appearances']} vs {player2['appearances']}\"\n",
        "    }\n",
        "\n",
        "    print(json.dumps(comparison, indent=4))\n",
        "\n",
        "player1_name = \"Aleksandar Mitrovic\"\n",
        "player2_name = \"Abdoulaye Doucoure\"\n",
        "\n",
        "compare_players(player1_name, player2_name)"
      ],
      "cell_type": "code",
      "metadata": {
        "id": "PY0M71phbrhD"
      },
      "execution_count": null,
      "outputs": []
    }
  ]
}